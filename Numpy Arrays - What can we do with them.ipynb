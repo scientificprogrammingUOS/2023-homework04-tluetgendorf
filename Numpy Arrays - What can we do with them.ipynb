{
 "cells": [
  {
   "cell_type": "markdown",
   "id": "9e602644-5096-4967-a09e-7cadb3865d21",
   "metadata": {},
   "source": [
    "# Numpy Arrays What - can we do with them?\n",
    "\n",
    "[<center><img src=\"images/numpy_logo.png\" width=\"400\"/></center>](https://numpy.org/doc/stable/user/quickstart.html)"
   ]
  },
  {
   "cell_type": "markdown",
   "id": "c971189b-c34a-47a5-9421-8b10d218118e",
   "metadata": {},
   "source": [
    "## Table of Contents\n",
    "\n",
    "* [Accessing Array Elements](#aae)\n",
    "    * [Indexing and Slicing](#Indx_Slic)\n",
    "    * [Masking/Filtering](#Mask_Filt)\n",
    "<br>\n",
    "<br>\n",
    "* [Math with Numpy Arrays](#mwna)\n",
    "    * [Math Operators and Functions - Ufuncs](#Operators)\n",
    "    * [Comparison](#Comparison)\n",
    "    * [Constants](#Constants)\n",
    "<br>\n",
    "<br>\n",
    "* [Changing Shape](#Changing_Shape)\n",
    "    * [Reshape](#Reshape)\n",
    "    * [Removing Dimensions](#Removing_Dimensions)\n",
    "        * [Flattening](#Flattening)\n",
    "        * [Squeezing](#Squeezing)\n",
    "    * [Adding Dimensions](#Adding_Dimensions)\n",
    "        * [Extending](#Extending)\n",
    "        * [Combining Arrays](#Combining_Arrays)\n",
    "        * [Repeating Arrays](#Repeating_Arrays)\n",
    "    * [Aggregation](#Aggregation)\n",
    "    * [Broadcasting](#Broadcasting)\n",
    "<br>\n",
    "<br>\n",
    "* [Miscellaneous](#Miscellaneous)\n",
    "    * [Repeat](#Repeat)\n",
    "    * [Random Number Generation](#Random_Number_Generation)\n"
   ]
  },
  {
   "cell_type": "markdown",
   "id": "47bd27bd-8011-479b-a166-a30af4d7faaa",
   "metadata": {},
   "source": [
    "## Imports"
   ]
  },
  {
   "cell_type": "code",
   "execution_count": 3,
   "id": "3b45ce29-a0f5-4ec8-8067-cbe42c1849fb",
   "metadata": {},
   "outputs": [
    {
     "name": "stdout",
     "output_type": "stream",
     "text": [
      "1.22.3\n"
     ]
    }
   ],
   "source": [
    "import numpy as np\n",
    "print(np.__version__)"
   ]
  },
  {
   "cell_type": "markdown",
   "id": "fb2c87b8-1b94-46ca-bbad-81c373ca7950",
   "metadata": {},
   "source": [
    "<a id='aae'></a>\n",
    "# Accessing Array Elements"
   ]
  },
  {
   "cell_type": "markdown",
   "id": "a0727d42-b863-40ed-9787-ba35520c32a2",
   "metadata": {},
   "source": [
    "<a id='Indx_Slic'></a>\n",
    "## Indexing and Slicing\n",
    "To index a \"single element\" of a `N` dimensional `array` we can use the following syntax. <br>\n",
    "`array[dim1, dim2, dim3, ..., dimN]` where `dimN` is the **index** in the **N**th dimension"
   ]
  },
  {
   "cell_type": "code",
   "execution_count": 4,
   "id": "755d7966-b70f-4da2-8f5c-5d32e61d32a3",
   "metadata": {},
   "outputs": [
    {
     "data": {
      "text/plain": [
       "array([[[ 0,  1,  2],\n",
       "        [ 3,  4,  5],\n",
       "        [ 6,  7,  8]],\n",
       "\n",
       "       [[ 9, 10, 11],\n",
       "        [12, 13, 14],\n",
       "        [15, 16, 17]],\n",
       "\n",
       "       [[18, 19, 20],\n",
       "        [21, 22, 23],\n",
       "        [24, 25, 26]]])"
      ]
     },
     "execution_count": 4,
     "metadata": {},
     "output_type": "execute_result"
    }
   ],
   "source": [
    "a = np.arange(27).reshape((3,3,3))\n",
    "a"
   ]
  },
  {
   "cell_type": "code",
   "execution_count": 5,
   "id": "db280ee8-8239-46e5-91d2-6d499ba6949a",
   "metadata": {},
   "outputs": [
    {
     "data": {
      "text/plain": [
       "19"
      ]
     },
     "execution_count": 5,
     "metadata": {},
     "output_type": "execute_result"
    }
   ],
   "source": [
    "a[2,0,1]"
   ]
  },
  {
   "cell_type": "markdown",
   "id": "b3fffc63-4f2b-4ca5-9d72-d9728b285705",
   "metadata": {},
   "source": [
    "To access multiple elements we can **slice** an `array` with the following syntax.<br>\n",
    "`array[start:stop:step]`, where `step` allows us to set a stride size.<br>"
   ]
  },
  {
   "cell_type": "code",
   "execution_count": 6,
   "id": "caf0ae6d-3abe-435a-9e42-ad7b4ee535ad",
   "metadata": {},
   "outputs": [
    {
     "data": {
      "text/plain": [
       "array([ 0,  5, 10, 15, 20, 25, 30, 35, 40, 45])"
      ]
     },
     "execution_count": 6,
     "metadata": {},
     "output_type": "execute_result"
    }
   ],
   "source": [
    "a = np.arange(100)\n",
    "a[0:50:5]"
   ]
  },
  {
   "cell_type": "markdown",
   "id": "2eca250a-6538-4c24-bda1-a87a1ea430c9",
   "metadata": {},
   "source": [
    "We can also slice across multiple dimensions."
   ]
  },
  {
   "cell_type": "code",
   "execution_count": 7,
   "id": "bb85a2f1-54b7-4d8e-be7d-9c8dfb62982b",
   "metadata": {},
   "outputs": [
    {
     "data": {
      "text/plain": [
       "array([[ 0,  5],\n",
       "       [20, 25],\n",
       "       [40, 45],\n",
       "       [60, 65]])"
      ]
     },
     "execution_count": 7,
     "metadata": {},
     "output_type": "execute_result"
    }
   ],
   "source": [
    "a = np.arange(100).reshape((10,10))\n",
    "a[0:8:2, 0:10:5]\n"
   ]
  },
  {
   "cell_type": "markdown",
   "id": "3df9b8c3-f3c1-46d6-b112-c777aff3778a",
   "metadata": {},
   "source": [
    "#### negative indices\n",
    "We can also **index** and **slice** using **negative integers**. Negative indices while start from the back of the array and count backwards."
   ]
  },
  {
   "cell_type": "code",
   "execution_count": 8,
   "id": "0d8fc6b6-6877-4348-a6a1-b5380975c6fe",
   "metadata": {},
   "outputs": [
    {
     "data": {
      "text/plain": [
       "array([0, 1, 2, 3, 4, 5, 6, 7, 8, 9])"
      ]
     },
     "execution_count": 8,
     "metadata": {},
     "output_type": "execute_result"
    }
   ],
   "source": [
    "a = np.arange(10)\n",
    "a"
   ]
  },
  {
   "cell_type": "code",
   "execution_count": 9,
   "id": "21479254-1a8b-4e89-bbfa-71ed4d6de454",
   "metadata": {},
   "outputs": [
    {
     "data": {
      "text/plain": [
       "9"
      ]
     },
     "execution_count": 9,
     "metadata": {},
     "output_type": "execute_result"
    }
   ],
   "source": [
    "a[-1]"
   ]
  },
  {
   "cell_type": "code",
   "execution_count": 10,
   "id": "2caae589-dcb0-4208-b49e-686564f9f630",
   "metadata": {},
   "outputs": [
    {
     "data": {
      "text/plain": [
       "8"
      ]
     },
     "execution_count": 10,
     "metadata": {},
     "output_type": "execute_result"
    }
   ],
   "source": [
    "a[-2]"
   ]
  },
  {
   "cell_type": "markdown",
   "id": "eebf9484-0543-4879-bc35-86ce276ee144",
   "metadata": {},
   "source": [
    "If we define the **stride** with a **negative integer** we can reverse the array."
   ]
  },
  {
   "cell_type": "code",
   "execution_count": 11,
   "id": "866c5e28-2d81-402d-b1fb-e4a93a5d7b73",
   "metadata": {},
   "outputs": [
    {
     "data": {
      "text/plain": [
       "array([9, 8, 7, 6, 5, 4, 3, 2, 1, 0])"
      ]
     },
     "execution_count": 11,
     "metadata": {},
     "output_type": "execute_result"
    }
   ],
   "source": [
    "a[::-1]"
   ]
  },
  {
   "cell_type": "markdown",
   "id": "c6ed9dcd-4d94-4d25-95d9-869c24aa87a4",
   "metadata": {},
   "source": [
    "<a id='Mask_Filt'></a>\n",
    "## Masking/Filtering"
   ]
  },
  {
   "cell_type": "markdown",
   "id": "e463e059-8c54-4224-b2f4-8bf822e04d3e",
   "metadata": {},
   "source": [
    "One way of **filtering** an `array` is by creating a **boolean mask**.<br>\n",
    "A **boolean mask** should have values of either `True` `1` or `False` `0`, depending on whether or not the respective array value satisfies the given **condition**."
   ]
  },
  {
   "cell_type": "code",
   "execution_count": 36,
   "id": "d7c01572-ee5b-4e5b-9241-f7f05f2688f1",
   "metadata": {},
   "outputs": [
    {
     "data": {
      "text/plain": [
       "array([ True, False,  True, False,  True, False,  True, False,  True,\n",
       "       False])"
      ]
     },
     "execution_count": 36,
     "metadata": {},
     "output_type": "execute_result"
    }
   ],
   "source": [
    "a = np.arange(10)\n",
    "\n",
    "mask =  a%2 == 0 # condition: divisible by 2\n",
    "mask"
   ]
  },
  {
   "cell_type": "markdown",
   "id": "462a0874-0fc4-4f4b-a631-8d875f8d13aa",
   "metadata": {},
   "source": [
    "With the **boolean mask** we can now **filter** the `array`, which will return the values of the indices where the mask is `True`"
   ]
  },
  {
   "cell_type": "code",
   "execution_count": 37,
   "id": "92a006d5-39e0-4dd0-b645-5f07456f9352",
   "metadata": {},
   "outputs": [
    {
     "data": {
      "text/plain": [
       "array([0, 2, 4, 6, 8])"
      ]
     },
     "execution_count": 37,
     "metadata": {},
     "output_type": "execute_result"
    }
   ],
   "source": [
    "a[mask]"
   ]
  },
  {
   "cell_type": "markdown",
   "id": "b7a45c72-fe0e-4e20-92aa-e0fb4e0ec850",
   "metadata": {},
   "source": [
    "We can more or less use masking and filtering synonymously, but there are also [other filtering methods](https://stackoverflow.com/questions/58422690/filtering-reducing-a-numpy-array) that don't rely on masking."
   ]
  },
  {
   "cell_type": "markdown",
   "id": "62ed99c1-6cfd-41ef-9835-2e459baa618a",
   "metadata": {},
   "source": [
    "<br>\n",
    "\n",
    "<a id='Mask_Filt'></a>\n",
    "# Math with Numpy Arrays"
   ]
  },
  {
   "cell_type": "markdown",
   "id": "f487fe10-7b6c-49f7-adae-eb854702c2ee",
   "metadata": {},
   "source": [
    "<a id='Operators'></a>\n",
    "## Math Operators and Functions - Ufuncs\n",
    "**Ufuncs** (short for \"universal functions\") are functions that operate **element-wise** on arrays.\n",
    "\n",
    "They are called \"universal\" because they are able to perform a wide variety of operations on arrays of any shape or size, and are a fundamental building block of numpy's array processing capabilities.\n",
    "\n",
    "**Ufuncs** are vectorized, meaning we offload the calculation to C, where the element-wise operations can happen for multiple elements at once. This way we don't have to rely on pythons slow looping."
   ]
  },
  {
   "cell_type": "code",
   "execution_count": 54,
   "id": "fd479e31-93c4-47d3-9549-c1c1823e932f",
   "metadata": {},
   "outputs": [],
   "source": [
    "a = np.arange(10)\n",
    "b = np.arange(10)"
   ]
  },
  {
   "cell_type": "markdown",
   "id": "1b8f7b16-276f-448d-96f5-1743f237bcf3",
   "metadata": {},
   "source": [
    "### Mathematical operators\n",
    "In mathematics we can differentiate operators and functions. Operators perform operations on objects, such as two numbers, while functions represent a relation between two objects. Some functions can also be seen as operators but not all."
   ]
  },
  {
   "cell_type": "markdown",
   "id": "6816934f-6588-4d81-9a87-4902c7b1c5d6",
   "metadata": {},
   "source": [
    "#### addition"
   ]
  },
  {
   "cell_type": "code",
   "execution_count": 55,
   "id": "ab44cf39-96d9-4586-9e9e-f2c8bdc8a883",
   "metadata": {},
   "outputs": [
    {
     "data": {
      "text/plain": [
       "array([ 2,  3,  4,  5,  6,  7,  8,  9, 10, 11])"
      ]
     },
     "execution_count": 55,
     "metadata": {},
     "output_type": "execute_result"
    }
   ],
   "source": [
    "# same as np.add(a, 2)\n",
    "a + 2"
   ]
  },
  {
   "cell_type": "code",
   "execution_count": 58,
   "id": "5b9dbe4d-a7dd-4602-a9b7-6337eab098ed",
   "metadata": {},
   "outputs": [
    {
     "data": {
      "text/plain": [
       "array([ 0,  2,  4,  6,  8, 10, 12, 14, 16, 18])"
      ]
     },
     "execution_count": 58,
     "metadata": {},
     "output_type": "execute_result"
    }
   ],
   "source": [
    "a + b"
   ]
  },
  {
   "cell_type": "markdown",
   "id": "2dcb1ae3-aea4-4cbf-ab67-cd2e6f085d3e",
   "metadata": {},
   "source": [
    "#### substraction"
   ]
  },
  {
   "cell_type": "code",
   "execution_count": 56,
   "id": "cd05545b-d695-47c4-906a-0a143476eaee",
   "metadata": {},
   "outputs": [
    {
     "data": {
      "text/plain": [
       "array([-2, -1,  0,  1,  2,  3,  4,  5,  6,  7])"
      ]
     },
     "execution_count": 56,
     "metadata": {},
     "output_type": "execute_result"
    }
   ],
   "source": [
    "# same as np.subtract(a, 2)\n",
    "a - 2"
   ]
  },
  {
   "cell_type": "code",
   "execution_count": 59,
   "id": "08e75eec-9912-4932-bafe-30a11a26b299",
   "metadata": {},
   "outputs": [
    {
     "data": {
      "text/plain": [
       "array([0, 0, 0, 0, 0, 0, 0, 0, 0, 0])"
      ]
     },
     "execution_count": 59,
     "metadata": {},
     "output_type": "execute_result"
    }
   ],
   "source": [
    "a - b"
   ]
  },
  {
   "cell_type": "markdown",
   "id": "7549a2ed-06c8-4d8c-971d-cb4cfaa43b97",
   "metadata": {},
   "source": [
    "#### multiplication"
   ]
  },
  {
   "cell_type": "code",
   "execution_count": 57,
   "id": "2a5b075e-aee5-4436-a7b7-82b1d15fc710",
   "metadata": {},
   "outputs": [
    {
     "data": {
      "text/plain": [
       "array([ 0,  2,  4,  6,  8, 10, 12, 14, 16, 18])"
      ]
     },
     "execution_count": 57,
     "metadata": {},
     "output_type": "execute_result"
    }
   ],
   "source": [
    "a * 2"
   ]
  },
  {
   "cell_type": "markdown",
   "id": "95495518-7fc0-4bd5-9d7a-b37e2533c46b",
   "metadata": {},
   "source": [
    "Note that multiplication with the `*` operator will also be performed element-wise and not as matrix multiplication."
   ]
  },
  {
   "cell_type": "code",
   "execution_count": 64,
   "id": "f29aecb1-8c42-42eb-8966-0155c9bf365b",
   "metadata": {},
   "outputs": [
    {
     "data": {
      "text/plain": [
       "array([ 0,  1,  4,  9, 16, 25, 36, 49, 64, 81])"
      ]
     },
     "execution_count": 64,
     "metadata": {},
     "output_type": "execute_result"
    }
   ],
   "source": [
    "a * b"
   ]
  },
  {
   "cell_type": "markdown",
   "id": "3720e115-b2f1-4e10-aa5d-771303248753",
   "metadata": {},
   "source": [
    "#### division"
   ]
  },
  {
   "cell_type": "code",
   "execution_count": 65,
   "id": "47bee67b-1c2c-4ab3-83f7-6be9d7261350",
   "metadata": {},
   "outputs": [
    {
     "data": {
      "text/plain": [
       "array([0. , 0.5, 1. , 1.5, 2. , 2.5, 3. , 3.5, 4. , 4.5])"
      ]
     },
     "execution_count": 65,
     "metadata": {},
     "output_type": "execute_result"
    }
   ],
   "source": [
    "a / 2"
   ]
  },
  {
   "cell_type": "markdown",
   "id": "b4d30e69-9bcb-4046-9ddd-0b4b1f21176f",
   "metadata": {},
   "source": [
    "#### matrix multiplication\n",
    "The proper operator for matrix multiplication is `@`."
   ]
  },
  {
   "cell_type": "code",
   "execution_count": 66,
   "id": "b482ed12-4879-4f48-960c-6dd370b480c4",
   "metadata": {},
   "outputs": [
    {
     "data": {
      "text/plain": [
       "285"
      ]
     },
     "execution_count": 66,
     "metadata": {},
     "output_type": "execute_result"
    }
   ],
   "source": [
    "a @ b"
   ]
  },
  {
   "cell_type": "markdown",
   "id": "020d4883-438d-4181-910d-693e2e2e112d",
   "metadata": {},
   "source": [
    "### Mathematical functions"
   ]
  },
  {
   "cell_type": "code",
   "execution_count": 73,
   "id": "a4956870-efd0-40cc-8edd-4f60abff3d02",
   "metadata": {},
   "outputs": [
    {
     "data": {
      "text/plain": [
       "array([ 0.        ,  0.84147098,  0.90929743,  0.14112001, -0.7568025 ,\n",
       "       -0.95892427, -0.2794155 ,  0.6569866 ,  0.98935825,  0.41211849])"
      ]
     },
     "execution_count": 73,
     "metadata": {},
     "output_type": "execute_result"
    }
   ],
   "source": [
    "np.sin(a)"
   ]
  },
  {
   "cell_type": "code",
   "execution_count": 74,
   "id": "1ceb0a94-230b-42ff-944b-b96b290064a8",
   "metadata": {},
   "outputs": [
    {
     "data": {
      "text/plain": [
       "array([1.00000000e+00, 2.71828183e+00, 7.38905610e+00, 2.00855369e+01,\n",
       "       5.45981500e+01, 1.48413159e+02, 4.03428793e+02, 1.09663316e+03,\n",
       "       2.98095799e+03, 8.10308393e+03])"
      ]
     },
     "execution_count": 74,
     "metadata": {},
     "output_type": "execute_result"
    }
   ],
   "source": [
    "np.exp(a)"
   ]
  },
  {
   "cell_type": "code",
   "execution_count": 76,
   "id": "5e0ea1f3-116b-46ca-bf64-dd8dc1ca0e60",
   "metadata": {},
   "outputs": [
    {
     "data": {
      "text/plain": [
       "array([0.        , 0.69314718, 1.09861229, 1.38629436, 1.60943791,\n",
       "       1.79175947, 1.94591015, 2.07944154, 2.19722458])"
      ]
     },
     "execution_count": 76,
     "metadata": {},
     "output_type": "execute_result"
    }
   ],
   "source": [
    "np.log(a[1:])"
   ]
  },
  {
   "cell_type": "code",
   "execution_count": 77,
   "id": "6067848e-4b8f-414a-ad47-671eea030dba",
   "metadata": {},
   "outputs": [
    {
     "data": {
      "text/plain": [
       "array([0.        , 1.        , 1.5849625 , 2.        , 2.32192809,\n",
       "       2.5849625 , 2.80735492, 3.        , 3.169925  ])"
      ]
     },
     "execution_count": 77,
     "metadata": {},
     "output_type": "execute_result"
    }
   ],
   "source": [
    "np.log2(a[1:])"
   ]
  },
  {
   "cell_type": "markdown",
   "id": "bade7f89-be1c-495d-92b0-94c9545aee36",
   "metadata": {},
   "source": [
    "#### List of all **[ufuncs](https://numpy.org/doc/stable/reference/ufuncs.html#available-ufuncs)**<br>\n"
   ]
  },
  {
   "cell_type": "markdown",
   "id": "533e41d0-f632-4f6d-8e3d-ccb354c57947",
   "metadata": {},
   "source": [
    "<a id='Comparison'></a>\n",
    "## Comparison"
   ]
  },
  {
   "cell_type": "markdown",
   "id": "c46d10da-2565-4b1c-8914-fff0e0daa996",
   "metadata": {},
   "source": [
    "### equal `==`"
   ]
  },
  {
   "cell_type": "code",
   "execution_count": 81,
   "id": "bb56e9dd-273c-4355-92c3-16b45c7b43dd",
   "metadata": {},
   "outputs": [
    {
     "data": {
      "text/plain": [
       "0.19999999999999996"
      ]
     },
     "execution_count": 81,
     "metadata": {},
     "output_type": "execute_result"
    }
   ],
   "source": [
    "val = 1.2-1\n",
    "val"
   ]
  },
  {
   "cell_type": "code",
   "execution_count": 91,
   "id": "f166cd93-7581-4213-aaae-12ebfd28759e",
   "metadata": {},
   "outputs": [],
   "source": [
    "a = np.array([val, 2, 3, 4, 5], dtype=np.float32)\n",
    "b = np.array([val, 2, 3, 8, 10], dtype=np.float64)"
   ]
  },
  {
   "cell_type": "code",
   "execution_count": 92,
   "id": "091f579a-ebbe-4c40-a5d9-13d04e49cb7e",
   "metadata": {},
   "outputs": [
    {
     "data": {
      "text/plain": [
       "array([False,  True,  True, False, False])"
      ]
     },
     "execution_count": 92,
     "metadata": {},
     "output_type": "execute_result"
    }
   ],
   "source": [
    "a == b"
   ]
  },
  {
   "cell_type": "markdown",
   "id": "c87f2edf-f80e-4f30-8c0b-79d19aba0752",
   "metadata": {},
   "source": [
    "Because `a` and `b` are of a different `dtype`, `val` is represented with a different \"resolution\"<br>\n",
    "and thus it will be equal in the two arrays."
   ]
  },
  {
   "cell_type": "code",
   "execution_count": 93,
   "id": "443689d2-8e77-4dd4-9c45-19d586d0c59f",
   "metadata": {},
   "outputs": [
    {
     "data": {
      "text/plain": [
       "0.2"
      ]
     },
     "execution_count": 93,
     "metadata": {},
     "output_type": "execute_result"
    }
   ],
   "source": [
    "a[0]"
   ]
  },
  {
   "cell_type": "code",
   "execution_count": 94,
   "id": "e104f1bc-00ac-433f-b825-e4434b2c353c",
   "metadata": {},
   "outputs": [
    {
     "data": {
      "text/plain": [
       "0.19999999999999996"
      ]
     },
     "execution_count": 94,
     "metadata": {},
     "output_type": "execute_result"
    }
   ],
   "source": [
    "b[0]"
   ]
  },
  {
   "cell_type": "markdown",
   "id": "d41377d2-fa22-401d-a081-fd293230bc2b",
   "metadata": {},
   "source": [
    "To address this issue we can use `np.isclose()`"
   ]
  },
  {
   "cell_type": "code",
   "execution_count": 95,
   "id": "37d3254e-bad5-49a1-866d-60266446a40d",
   "metadata": {},
   "outputs": [
    {
     "data": {
      "text/plain": [
       "array([ True,  True,  True, False, False])"
      ]
     },
     "execution_count": 95,
     "metadata": {},
     "output_type": "execute_result"
    }
   ],
   "source": [
    "np.isclose(a, b)"
   ]
  },
  {
   "cell_type": "markdown",
   "id": "a53ab187-e57d-499c-ae2d-d70eb0e0e83c",
   "metadata": {},
   "source": [
    "### not equal `!=`"
   ]
  },
  {
   "cell_type": "code",
   "execution_count": 100,
   "id": "5ab4ae0a-7074-4c6f-99e3-d7c230acae42",
   "metadata": {},
   "outputs": [
    {
     "data": {
      "text/plain": [
       "array([ True, False, False,  True,  True])"
      ]
     },
     "execution_count": 100,
     "metadata": {},
     "output_type": "execute_result"
    }
   ],
   "source": [
    "a != b"
   ]
  },
  {
   "cell_type": "markdown",
   "id": "f57b38d2-7d79-41c1-a477-b0527a135aef",
   "metadata": {},
   "source": [
    "### smaller `<` greater"
   ]
  },
  {
   "cell_type": "code",
   "execution_count": 96,
   "id": "b14b7282-de35-4e6f-bcf3-48e6b3cab32c",
   "metadata": {},
   "outputs": [
    {
     "data": {
      "text/plain": [
       "array([False, False, False,  True,  True])"
      ]
     },
     "execution_count": 96,
     "metadata": {},
     "output_type": "execute_result"
    }
   ],
   "source": [
    "a < b"
   ]
  },
  {
   "cell_type": "code",
   "execution_count": 97,
   "id": "8a77bedd-9726-4c07-aebb-347af9a68d5b",
   "metadata": {},
   "outputs": [
    {
     "data": {
      "text/plain": [
       "array([ True, False, False, False, False])"
      ]
     },
     "execution_count": 97,
     "metadata": {},
     "output_type": "execute_result"
    }
   ],
   "source": [
    "a > b"
   ]
  },
  {
   "cell_type": "markdown",
   "id": "c4125401-6f64-412d-93c3-541014f45709",
   "metadata": {},
   "source": [
    "### smaller/greater equal `<=` `>=`"
   ]
  },
  {
   "cell_type": "code",
   "execution_count": 98,
   "id": "657b4b53-081a-4f80-81fa-57294e64caa1",
   "metadata": {},
   "outputs": [
    {
     "data": {
      "text/plain": [
       "array([False,  True,  True,  True,  True])"
      ]
     },
     "execution_count": 98,
     "metadata": {},
     "output_type": "execute_result"
    }
   ],
   "source": [
    "a <= b"
   ]
  },
  {
   "cell_type": "code",
   "execution_count": 99,
   "id": "5190c20a-0904-4133-9dc3-10632addaa68",
   "metadata": {},
   "outputs": [
    {
     "data": {
      "text/plain": [
       "array([ True,  True,  True, False, False])"
      ]
     },
     "execution_count": 99,
     "metadata": {},
     "output_type": "execute_result"
    }
   ],
   "source": [
    "a >= b"
   ]
  },
  {
   "cell_type": "markdown",
   "id": "52bf2436-7afe-431e-bca7-ce88629afa10",
   "metadata": {},
   "source": [
    "### `np.nan` != `np.nan`"
   ]
  },
  {
   "cell_type": "markdown",
   "id": "f91659b7-afec-4c29-a721-aa407ef971be",
   "metadata": {},
   "source": [
    "In numpy, **undefined** values are not equal. "
   ]
  },
  {
   "cell_type": "code",
   "execution_count": 101,
   "id": "f673df01-b098-4a13-8706-b5280f16323f",
   "metadata": {},
   "outputs": [
    {
     "data": {
      "text/plain": [
       "False"
      ]
     },
     "execution_count": 101,
     "metadata": {},
     "output_type": "execute_result"
    }
   ],
   "source": [
    "np.nan == np.nan"
   ]
  },
  {
   "cell_type": "markdown",
   "id": "8a58fba1-efeb-4a87-b84a-59d57203ce69",
   "metadata": {},
   "source": [
    "to check if something is a `nan` we can use `np.isnan()`\n"
   ]
  },
  {
   "cell_type": "code",
   "execution_count": 119,
   "id": "faf7b7d1-45cd-4d20-bba6-a662f34ef719",
   "metadata": {},
   "outputs": [
    {
     "data": {
      "text/plain": [
       "True"
      ]
     },
     "execution_count": 119,
     "metadata": {},
     "output_type": "execute_result"
    }
   ],
   "source": [
    "np.isnan(np.nan)"
   ]
  },
  {
   "cell_type": "markdown",
   "id": "a12b4f41-7999-4fad-b246-ec4277959726",
   "metadata": {},
   "source": [
    "### `all()`\n",
    "\n",
    "To check if a given comparison is true for all array elements we can use `all()`.<br>\n",
    "So we can check for example if *all* array elements are equal."
   ]
  },
  {
   "cell_type": "code",
   "execution_count": 108,
   "id": "dea8218b-d129-4d20-8c5a-61ea81c790e3",
   "metadata": {},
   "outputs": [
    {
     "data": {
      "text/plain": [
       "True"
      ]
     },
     "execution_count": 108,
     "metadata": {},
     "output_type": "execute_result"
    }
   ],
   "source": [
    "a = np.arange(10)\n",
    "b = np.arange(10)\n",
    "\n",
    "(a == b).all()"
   ]
  },
  {
   "cell_type": "markdown",
   "id": "858a70a8-3b2c-4845-8dbc-3acf06a1404a",
   "metadata": {},
   "source": [
    "#### Watch out!"
   ]
  },
  {
   "cell_type": "code",
   "execution_count": 110,
   "id": "e61d6362-26d4-4aec-8404-cc060a9ca2d5",
   "metadata": {},
   "outputs": [],
   "source": [
    "a = np.array([])\n",
    "b = np.array([1])"
   ]
  },
  {
   "cell_type": "code",
   "execution_count": 111,
   "id": "d3158286-782b-4dc1-a3f3-9021b06904bb",
   "metadata": {},
   "outputs": [
    {
     "data": {
      "text/plain": [
       "array([], dtype=bool)"
      ]
     },
     "execution_count": 111,
     "metadata": {},
     "output_type": "execute_result"
    }
   ],
   "source": [
    "a == b"
   ]
  },
  {
   "cell_type": "code",
   "execution_count": 112,
   "id": "9e65f633-f5fb-422a-8d7f-165567cf8a61",
   "metadata": {},
   "outputs": [
    {
     "data": {
      "text/plain": [
       "True"
      ]
     },
     "execution_count": 112,
     "metadata": {},
     "output_type": "execute_result"
    }
   ],
   "source": [
    "(a == b).all()"
   ]
  },
  {
   "cell_type": "markdown",
   "id": "d8907133-24c5-4292-bb79-4f1da41e9c98",
   "metadata": {},
   "source": [
    "<a id='Constants'></a>\n",
    "## Constants\n",
    "[Numpy documentation - constants](https://numpy.org/doc/stable/reference/constants.html)"
   ]
  },
  {
   "cell_type": "code",
   "execution_count": 113,
   "id": "16c30d85-eb64-4a4c-917a-0ca12f97903b",
   "metadata": {},
   "outputs": [
    {
     "data": {
      "text/plain": [
       "3.141592653589793"
      ]
     },
     "execution_count": 113,
     "metadata": {},
     "output_type": "execute_result"
    }
   ],
   "source": [
    "np.pi"
   ]
  },
  {
   "cell_type": "code",
   "execution_count": 114,
   "id": "d675a4bf-c128-405c-8101-cedb2d835482",
   "metadata": {},
   "outputs": [
    {
     "data": {
      "text/plain": [
       "2.718281828459045"
      ]
     },
     "execution_count": 114,
     "metadata": {},
     "output_type": "execute_result"
    }
   ],
   "source": [
    "np.e"
   ]
  },
  {
   "cell_type": "code",
   "execution_count": 116,
   "id": "66a89ac4-9901-4365-a0c8-5c0568480019",
   "metadata": {},
   "outputs": [
    {
     "data": {
      "text/plain": [
       "True"
      ]
     },
     "execution_count": 116,
     "metadata": {},
     "output_type": "execute_result"
    }
   ],
   "source": [
    "np.inf > 999999999999999999999999999999999999999999999999999999"
   ]
  },
  {
   "cell_type": "code",
   "execution_count": 117,
   "id": "022f84ae-9584-4eea-936e-f91d8f4137ee",
   "metadata": {},
   "outputs": [
    {
     "data": {
      "text/plain": [
       "-inf"
      ]
     },
     "execution_count": 117,
     "metadata": {},
     "output_type": "execute_result"
    }
   ],
   "source": [
    "-np.inf"
   ]
  },
  {
   "cell_type": "code",
   "execution_count": 118,
   "id": "c4c891fc-7461-424e-8397-162b729a06af",
   "metadata": {},
   "outputs": [
    {
     "data": {
      "text/plain": [
       "nan"
      ]
     },
     "execution_count": 118,
     "metadata": {},
     "output_type": "execute_result"
    }
   ],
   "source": [
    "np.inf - np.inf"
   ]
  },
  {
   "cell_type": "markdown",
   "id": "e0adb363-c1f0-40be-869c-fc63980c0831",
   "metadata": {},
   "source": [
    "<br>\n",
    "\n",
    "<a id='Changing_Shape'></a>\n",
    "# Changing Shape"
   ]
  },
  {
   "cell_type": "markdown",
   "id": "98f4397e-3c5f-4a83-8e34-3a38d57b8349",
   "metadata": {},
   "source": [
    "<a id='Reshape'></a>\n",
    "## Reshape"
   ]
  },
  {
   "cell_type": "code",
   "execution_count": 121,
   "id": "4a8a77ab-4f54-4c6a-869e-507f6a5a8e15",
   "metadata": {},
   "outputs": [
    {
     "data": {
      "text/plain": [
       "array([0, 1, 2, 3, 4, 5, 6, 7, 8, 9])"
      ]
     },
     "execution_count": 121,
     "metadata": {},
     "output_type": "execute_result"
    }
   ],
   "source": [
    "a = np.arange(10)\n",
    "a"
   ]
  },
  {
   "cell_type": "code",
   "execution_count": 122,
   "id": "f6f853a1-32d7-4733-afa5-2041015c7840",
   "metadata": {},
   "outputs": [
    {
     "data": {
      "text/plain": [
       "array([[0, 1],\n",
       "       [2, 3],\n",
       "       [4, 5],\n",
       "       [6, 7],\n",
       "       [8, 9]])"
      ]
     },
     "execution_count": 122,
     "metadata": {},
     "output_type": "execute_result"
    }
   ],
   "source": [
    "a.reshape((5,2))"
   ]
  },
  {
   "cell_type": "markdown",
   "id": "698be2c1-fe74-48d3-8df0-3e945b02ec81",
   "metadata": {},
   "source": [
    "If we"
   ]
  },
  {
   "cell_type": "code",
   "execution_count": 124,
   "id": "cb568b57-ce7d-43f3-b2b7-58afab405f59",
   "metadata": {},
   "outputs": [
    {
     "data": {
      "text/plain": [
       "array([[0, 1],\n",
       "       [2, 3],\n",
       "       [4, 5],\n",
       "       [6, 7],\n",
       "       [8, 9]])"
      ]
     },
     "execution_count": 124,
     "metadata": {},
     "output_type": "execute_result"
    }
   ],
   "source": [
    "a.reshape((5,-1))"
   ]
  },
  {
   "cell_type": "code",
   "execution_count": 126,
   "id": "dc8b2ac2-728b-4364-807b-0896e6f9095e",
   "metadata": {},
   "outputs": [
    {
     "ename": "ValueError",
     "evalue": "cannot reshape array of size 10 into shape (4,2)",
     "output_type": "error",
     "traceback": [
      "\u001b[0;31m---------------------------------------------------------------------------\u001b[0m",
      "\u001b[0;31mValueError\u001b[0m                                Traceback (most recent call last)",
      "Input \u001b[0;32mIn [126]\u001b[0m, in \u001b[0;36m<cell line: 1>\u001b[0;34m()\u001b[0m\n\u001b[0;32m----> 1\u001b[0m \u001b[43ma\u001b[49m\u001b[38;5;241;43m.\u001b[39;49m\u001b[43mreshape\u001b[49m\u001b[43m(\u001b[49m\u001b[43m(\u001b[49m\u001b[38;5;241;43m4\u001b[39;49m\u001b[43m,\u001b[49m\u001b[38;5;241;43m2\u001b[39;49m\u001b[43m)\u001b[49m\u001b[43m)\u001b[49m\n",
      "\u001b[0;31mValueError\u001b[0m: cannot reshape array of size 10 into shape (4,2)"
     ]
    }
   ],
   "source": [
    "a.reshape((4,2))"
   ]
  },
  {
   "cell_type": "markdown",
   "id": "e3255ff6-f0f7-48bc-95fc-3f3f7006d36f",
   "metadata": {},
   "source": [
    "<a id='Removing_Dimensions'></a>\n",
    "## Removing Dimensions"
   ]
  },
  {
   "cell_type": "markdown",
   "id": "226e0bd5-2a80-4937-8e89-b75a21463739",
   "metadata": {},
   "source": [
    "<a id='Flattening'></a>\n",
    "### Flattening"
   ]
  },
  {
   "cell_type": "code",
   "execution_count": 130,
   "id": "0d08a921-4716-4f71-9ed2-6d0d9bdce078",
   "metadata": {},
   "outputs": [
    {
     "data": {
      "text/plain": [
       "array([[[1., 1.],\n",
       "        [1., 1.]],\n",
       "\n",
       "       [[1., 1.],\n",
       "        [1., 1.]]])"
      ]
     },
     "execution_count": 130,
     "metadata": {},
     "output_type": "execute_result"
    }
   ],
   "source": [
    "a = np.ones((2,2,2))\n",
    "a"
   ]
  },
  {
   "cell_type": "code",
   "execution_count": 131,
   "id": "bfddf7a8-2438-45eb-9881-486d41ad47ac",
   "metadata": {},
   "outputs": [
    {
     "data": {
      "text/plain": [
       "array([1., 1., 1., 1., 1., 1., 1., 1.])"
      ]
     },
     "execution_count": 131,
     "metadata": {},
     "output_type": "execute_result"
    }
   ],
   "source": [
    "a.flatten()"
   ]
  },
  {
   "cell_type": "markdown",
   "id": "3b0e961b-a6a5-4bef-a6fe-255c620697ac",
   "metadata": {},
   "source": [
    "<a id='Squeezing'></a>\n",
    "### Squeezing\n",
    "Sometimes we have unnecessary dimensions that we want to get rid of. In such cases we can `squeeze` the array.<br>\n",
    "Squeezing the array while remove dimensions that only have one element."
   ]
  },
  {
   "cell_type": "code",
   "execution_count": 135,
   "id": "5c96fcc6-9e37-4bc5-83f3-44865143e73d",
   "metadata": {},
   "outputs": [
    {
     "data": {
      "text/plain": [
       "array([[[[1, 2],\n",
       "         [3, 4],\n",
       "         [5, 6]]]])"
      ]
     },
     "execution_count": 135,
     "metadata": {},
     "output_type": "execute_result"
    }
   ],
   "source": [
    "a = np.array([[[[1, 2], [3, 4], [5, 6]]]])\n",
    "a"
   ]
  },
  {
   "cell_type": "code",
   "execution_count": 137,
   "id": "a6e244c0-84aa-43e2-9369-c8644e365818",
   "metadata": {},
   "outputs": [
    {
     "data": {
      "text/plain": [
       "(1, 1, 3, 2)"
      ]
     },
     "execution_count": 137,
     "metadata": {},
     "output_type": "execute_result"
    }
   ],
   "source": [
    "a.shape"
   ]
  },
  {
   "cell_type": "code",
   "execution_count": 139,
   "id": "d26207c7-f35a-45b6-8a44-18474394c650",
   "metadata": {},
   "outputs": [
    {
     "data": {
      "text/plain": [
       "array([[1, 2],\n",
       "       [3, 4],\n",
       "       [5, 6]])"
      ]
     },
     "execution_count": 139,
     "metadata": {},
     "output_type": "execute_result"
    }
   ],
   "source": [
    "a = a.squeeze()\n",
    "a"
   ]
  },
  {
   "cell_type": "code",
   "execution_count": 140,
   "id": "f66ed12c-01c0-4fce-92bd-94f06c7d3744",
   "metadata": {},
   "outputs": [
    {
     "data": {
      "text/plain": [
       "(3, 2)"
      ]
     },
     "execution_count": 140,
     "metadata": {},
     "output_type": "execute_result"
    }
   ],
   "source": [
    "a.shape"
   ]
  },
  {
   "cell_type": "markdown",
   "id": "457641d1-1806-4b88-9edb-274f3ad80d99",
   "metadata": {},
   "source": [
    "<a id='Adding_Dimensions'></a>\n",
    "## Adding Dimensions"
   ]
  },
  {
   "cell_type": "markdown",
   "id": "0a2328f5-e4de-4fc5-a0bc-bd105eeea04c",
   "metadata": {
    "jp-MarkdownHeadingCollapsed": true,
    "tags": []
   },
   "source": [
    "<a id='Extending'></a>\n",
    "## Extending"
   ]
  },
  {
   "cell_type": "markdown",
   "id": "5ab1ae39-9854-40df-8788-b616c49e6a99",
   "metadata": {},
   "source": [
    "<a id='Combining_Arrays'></a>\n",
    "## Combining Arrays\n"
   ]
  },
  {
   "cell_type": "markdown",
   "id": "80f36a32-e3c5-4a3e-aadf-00d1c57c2670",
   "metadata": {},
   "source": [
    "<a id='Repeating_Arrays'></a>\n",
    "## Repeating Arrays"
   ]
  },
  {
   "cell_type": "markdown",
   "id": "78efed3e-8c1b-473d-9f2c-59c404d60bf5",
   "metadata": {},
   "source": [
    "<a id='Aggregation'></a>\n",
    "## Aggregation"
   ]
  },
  {
   "cell_type": "markdown",
   "id": "f9b0ae3f-e5e0-4114-b8dc-cde895a256b8",
   "metadata": {},
   "source": [
    "<a id='Broadcasting'></a>\n",
    "## Broadcasting"
   ]
  },
  {
   "cell_type": "markdown",
   "id": "8cd7279d-c34f-453d-9806-192680916298",
   "metadata": {},
   "source": [
    "<br>\n",
    "\n",
    "<a id='Miscellaneous'></a>\n",
    "# Miscellaneous"
   ]
  },
  {
   "cell_type": "markdown",
   "id": "0f67b3a2-95fa-439d-9315-fdee38f9baba",
   "metadata": {},
   "source": [
    "<a id='Repeat'></a>\n",
    "## Repeat"
   ]
  },
  {
   "cell_type": "markdown",
   "id": "efacee85-370e-42ef-96ec-18059bb45b31",
   "metadata": {},
   "source": [
    "<a id='Random Number Generation'></a>\n",
    "## Random Number Generation"
   ]
  },
  {
   "cell_type": "code",
   "execution_count": null,
   "id": "de0ec1a5-2bc4-4898-9e49-2ee5293f83dd",
   "metadata": {},
   "outputs": [],
   "source": []
  }
 ],
 "metadata": {
  "kernelspec": {
   "display_name": "Python 3 (ipykernel)",
   "language": "python",
   "name": "python3"
  },
  "language_info": {
   "codemirror_mode": {
    "name": "ipython",
    "version": 3
   },
   "file_extension": ".py",
   "mimetype": "text/x-python",
   "name": "python",
   "nbconvert_exporter": "python",
   "pygments_lexer": "ipython3",
   "version": "3.10.4"
  }
 },
 "nbformat": 4,
 "nbformat_minor": 5
}
